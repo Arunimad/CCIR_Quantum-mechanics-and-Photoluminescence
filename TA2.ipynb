{
  "nbformat": 4,
  "nbformat_minor": 0,
  "metadata": {
    "colab": {
      "provenance": []
    },
    "kernelspec": {
      "name": "python3",
      "display_name": "Python 3"
    },
    "language_info": {
      "name": "python"
    }
  },
  "cells": [
    {
      "cell_type": "markdown",
      "source": [
        "# Simple math operations in Python"
      ],
      "metadata": {
        "id": "1OHpxlcQFZn8"
      }
    },
    {
      "cell_type": "markdown",
      "source": [
        "Addition"
      ],
      "metadata": {
        "id": "CE8t41MHFdh4"
      }
    },
    {
      "cell_type": "code",
      "execution_count": null,
      "metadata": {
        "id": "uBvnU5J-FQVV"
      },
      "outputs": [],
      "source": [
        "val1 = 2\n",
        "val2 = 3\n",
        "\n",
        "# using the addition operator\n",
        "res = val1 + val2\n",
        "print(res)\n"
      ]
    },
    {
      "cell_type": "markdown",
      "source": [
        "Subtraction"
      ],
      "metadata": {
        "id": "VFI0ZS4_Q1D5"
      }
    },
    {
      "cell_type": "code",
      "source": [
        "val1 = 2\n",
        "val2 = 3\n",
        "\n",
        "# using the subtraction operator\n",
        "res = val1 - val2\n",
        "print(res)\n"
      ],
      "metadata": {
        "id": "uhXWXLOjFh7z"
      },
      "execution_count": null,
      "outputs": []
    },
    {
      "cell_type": "markdown",
      "source": [
        "Multiplication"
      ],
      "metadata": {
        "id": "xrWZA0nZFksk"
      }
    },
    {
      "cell_type": "code",
      "source": [
        "val1 = 2\n",
        "val2 = 3\n",
        "\n",
        "# using the multiplication operator\n",
        "res = val1 * val2\n",
        "print(res)\n"
      ],
      "metadata": {
        "id": "lA0UO2N-FkWo"
      },
      "execution_count": null,
      "outputs": []
    },
    {
      "cell_type": "markdown",
      "source": [
        "Division"
      ],
      "metadata": {
        "id": "nR8Mav7qFoul"
      }
    },
    {
      "cell_type": "code",
      "source": [
        "val1 = 3\n",
        "val2 = 2\n",
        "\n",
        "# using the division operator\n",
        "res = val1 / val2\n",
        "print(res)\n",
        "\n"
      ],
      "metadata": {
        "id": "hLdyNoYuFp8t"
      },
      "execution_count": null,
      "outputs": []
    },
    {
      "cell_type": "markdown",
      "source": [
        "Floor division"
      ],
      "metadata": {
        "id": "5gcsG9hvFw-W"
      }
    },
    {
      "cell_type": "code",
      "source": [
        "val1 = 3\n",
        "val2 = 2\n",
        "\n",
        "# using the floor division\n",
        "res = val1 // val2\n",
        "print(res)\n"
      ],
      "metadata": {
        "id": "pXAKvViDFyTB"
      },
      "execution_count": null,
      "outputs": []
    },
    {
      "cell_type": "markdown",
      "source": [
        "Modulus"
      ],
      "metadata": {
        "id": "Zp0Q8Ah9F1pA"
      }
    },
    {
      "cell_type": "code",
      "source": [
        "val1 = 3\n",
        "val2 = 2\n",
        "\n",
        "# using the modulus operator\n",
        "res = val1 % val2\n",
        "print(res)\n"
      ],
      "metadata": {
        "id": "rW1_Jq3fF2hB"
      },
      "execution_count": null,
      "outputs": []
    },
    {
      "cell_type": "markdown",
      "source": [
        "Exponent"
      ],
      "metadata": {
        "id": "0AJwgG3TF5BF"
      }
    },
    {
      "cell_type": "code",
      "source": [
        "val1 = 2\n",
        "val2 = 3\n",
        "\n",
        "# using the exponentiation operator\n",
        "res = val1 ** val2\n",
        "print(res)\n"
      ],
      "metadata": {
        "id": "fc-NAKePF5-C"
      },
      "execution_count": null,
      "outputs": []
    },
    {
      "cell_type": "markdown",
      "source": [
        "Derivatives - using sympy"
      ],
      "metadata": {
        "id": "amP01sdHGFEK"
      }
    },
    {
      "cell_type": "code",
      "source": [
        "pip install sympy"
      ],
      "metadata": {
        "id": "w9CifKHbGOt0"
      },
      "execution_count": null,
      "outputs": []
    },
    {
      "cell_type": "code",
      "source": [
        "# import sympy\n",
        "from sympy import *\n",
        "\n",
        "x, y = symbols('x y')\n",
        "expr = x**2 + 2 * y + y**3\n",
        "print(\"Expression : {}\".format(expr))\n",
        "\n",
        "# Use sympy.Derivative() method\n",
        "expr_diff = Derivative(expr, x)\n",
        "\n",
        "print(\"Derivative of expression with respect to x : {}\".format(expr_diff))\n",
        "print(\"Value of the derivative : {}\".format(expr_diff.doit()))\n"
      ],
      "metadata": {
        "id": "er2XlJFJGG7U"
      },
      "execution_count": null,
      "outputs": []
    },
    {
      "cell_type": "markdown",
      "source": [
        "Derivatives - using numpy"
      ],
      "metadata": {
        "id": "JWg3gf7AG8DD"
      }
    },
    {
      "cell_type": "code",
      "source": [
        "import numpy\n",
        "\n",
        "x = numpy.linspace(0,10,10)\n",
        "dx = x[1]-x[0]\n",
        "y = x**2 + 1\n",
        "dydx = numpy.gradient(y, dx)\n",
        "print (dydx)"
      ],
      "metadata": {
        "id": "grg_G6zSGamY"
      },
      "execution_count": null,
      "outputs": []
    },
    {
      "cell_type": "markdown",
      "source": [
        "Derviatives using autograd (popular with ML community)"
      ],
      "metadata": {
        "id": "9lu4V-dcHAwy"
      }
    },
    {
      "cell_type": "code",
      "source": [
        "pip install autograd"
      ],
      "metadata": {
        "id": "-fkZVT8YHEuB"
      },
      "execution_count": null,
      "outputs": []
    },
    {
      "cell_type": "code",
      "source": [
        "import autograd.numpy as np\n",
        "from autograd import grad\n",
        "\n",
        "def fct(x):\n",
        "    y = x**2+1\n",
        "    return y\n",
        "\n",
        "grad_fct = grad(fct)\n",
        "print(grad_fct(1.0))"
      ],
      "metadata": {
        "id": "oEAAJ-d7HGvh"
      },
      "execution_count": null,
      "outputs": []
    },
    {
      "cell_type": "code",
      "source": [
        "from scipy.optimize import minimize\n",
        "\n",
        "\n",
        "def f(x):\n",
        "    return x**2 + np.exp(-7 * x**2)\n",
        "\n",
        "\n",
        "guess = 0.5\n",
        "sol = minimize(f, guess, tol = 0.0000001)\n",
        "sol"
      ],
      "metadata": {
        "id": "z7c6MbQfCEIt"
      },
      "execution_count": null,
      "outputs": []
    },
    {
      "cell_type": "markdown",
      "source": [
        "lets try higher order derivatives using numpy.gradient recursively ..."
      ],
      "metadata": {
        "id": "ATcluE2nI1Ha"
      }
    },
    {
      "cell_type": "markdown",
      "source": [
        "1st derivative ...dydx...."
      ],
      "metadata": {
        "id": "JqIC1jE5I8d7"
      }
    },
    {
      "cell_type": "code",
      "source": [
        "import numpy\n",
        "\n",
        "x = numpy.linspace(0,10,10)\n",
        "dx = x[1]-x[0]\n",
        "y = x**2 + 1\n",
        "dydx = numpy.gradient(y, dx)\n",
        "print (dydx)"
      ],
      "metadata": {
        "id": "AOjoKQYEI6n_"
      },
      "execution_count": null,
      "outputs": []
    },
    {
      "cell_type": "code",
      "source": [
        "import numpy\n",
        "\n",
        "x = numpy.linspace(0,10,10)\n",
        "dx = x[1]-x[0]\n",
        "y = dydx\n",
        "dydx2 = numpy.gradient(y, dx)\n",
        "print (dydx2)"
      ],
      "metadata": {
        "id": "1_AGmsCWJkVT"
      },
      "execution_count": null,
      "outputs": []
    },
    {
      "cell_type": "code",
      "source": [
        "import numpy\n",
        "\n",
        "x = numpy.linspace(0,10,10)\n",
        "dx = x[1]-x[0]\n",
        "dydx3 = x**2 + 1\n",
        "dydx3 = numpy.gradient(y, dx)\n",
        "print (dydx3)"
      ],
      "metadata": {
        "id": "YFOfraKVJyEL"
      },
      "execution_count": null,
      "outputs": []
    },
    {
      "cell_type": "markdown",
      "source": [
        "Lists"
      ],
      "metadata": {
        "id": "VXsFRytqQKT9"
      }
    },
    {
      "cell_type": "code",
      "metadata": {
        "id": "OrnV1ySAPtHp"
      },
      "source": [
        "my_list = []"
      ],
      "execution_count": null,
      "outputs": []
    },
    {
      "cell_type": "code",
      "metadata": {
        "id": "Uq5YTJ1JXpOX"
      },
      "source": [
        "my_list = [1, 2, 3]"
      ],
      "execution_count": null,
      "outputs": []
    },
    {
      "cell_type": "code",
      "metadata": {
        "id": "QFTNqiYiXxAh"
      },
      "source": [
        "my_list.append(4)\n",
        "my_list"
      ],
      "execution_count": null,
      "outputs": []
    },
    {
      "cell_type": "code",
      "metadata": {
        "id": "pyFxyZPVYpG_"
      },
      "source": [
        "my_list[2]"
      ],
      "execution_count": null,
      "outputs": []
    },
    {
      "cell_type": "code",
      "metadata": {
        "id": "Ichf9p0gd7tJ"
      },
      "source": [
        "my_list[1:3]"
      ],
      "execution_count": null,
      "outputs": []
    },
    {
      "cell_type": "markdown",
      "source": [
        "Strings"
      ],
      "metadata": {
        "id": "1SqJT2RZQbef"
      }
    },
    {
      "cell_type": "code",
      "metadata": {
        "id": "cCma6Oj_7T8n"
      },
      "source": [
        "string1 = \"some text\"\n",
        "string2 = 'some other text'"
      ],
      "execution_count": null,
      "outputs": []
    },
    {
      "cell_type": "code",
      "metadata": {
        "id": "mxqNMKCY79_W"
      },
      "source": [
        "string1 + \" \" + string2"
      ],
      "execution_count": null,
      "outputs": []
    },
    {
      "cell_type": "markdown",
      "source": [
        "Conditionals"
      ],
      "metadata": {
        "id": "5epzqv9-Qho9"
      }
    },
    {
      "cell_type": "code",
      "metadata": {
        "id": "xC_DMZjofoYZ"
      },
      "source": [
        "my_variable = 5\n",
        "if my_variable < 0:\n",
        "  print(\"negative\")\n",
        "elif my_variable == 0:\n",
        "  print(\"null\")\n",
        "else: # my_variable > 0\n",
        "  print(\"positive\")"
      ],
      "execution_count": null,
      "outputs": []
    },
    {
      "cell_type": "markdown",
      "source": [
        "Loops"
      ],
      "metadata": {
        "id": "5JdcbMCmQll1"
      }
    },
    {
      "cell_type": "code",
      "metadata": {
        "id": "7-QXGqgOjsr_"
      },
      "source": [
        "i = 0\n",
        "while i < len(my_list):\n",
        "  print(my_list[i])\n",
        "  i += 1 # equivalent to i = i + 1"
      ],
      "execution_count": null,
      "outputs": []
    },
    {
      "cell_type": "code",
      "metadata": {
        "id": "2QObx5mckMcI"
      },
      "source": [
        "for i in range(len(my_list)):\n",
        "  print(my_list[i])"
      ],
      "execution_count": null,
      "outputs": []
    },
    {
      "cell_type": "markdown",
      "source": [
        "Functions"
      ],
      "metadata": {
        "id": "R8BJ5WnuQtR7"
      }
    },
    {
      "cell_type": "code",
      "metadata": {
        "id": "cImA09gOhRmx"
      },
      "source": [
        "def square(x):\n",
        "  return x ** 2\n",
        "\n",
        "def multiply(a, b):\n",
        "  return a * b\n",
        "\n",
        "# Functions can be composed.\n",
        "square(multiply(3, 2))"
      ],
      "execution_count": null,
      "outputs": []
    }
  ]
}