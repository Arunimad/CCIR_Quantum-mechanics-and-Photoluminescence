{
  "cells": [
    {
      "cell_type": "markdown",
      "metadata": {
        "id": "view-in-github",
        "colab_type": "text"
      },
      "source": [
        "<a href=\"https://colab.research.google.com/github/Arunimad/CCIR_Quantum-mechanics-and-Photoluminescence/blob/main/TA4.ipynb\" target=\"_parent\"><img src=\"https://colab.research.google.com/assets/colab-badge.svg\" alt=\"Open In Colab\"/></a>"
      ]
    },
    {
      "cell_type": "markdown",
      "metadata": {
        "id": "OufsfbgXGbUl"
      },
      "source": [
        "CirQ\n",
        "\n",
        "Cirq is a python library that can be used to generate, manipulate, and optimize quantum circuits. These circuits can be simulated as if they would run on a real quantum computer."
      ]
    },
    {
      "cell_type": "markdown",
      "metadata": {
        "id": "rKMmWLZpGyJE"
      },
      "source": [
        "NISQ\n",
        "\n",
        "Noisy Intermediate Scale Quantum (NISQ) computing is a term coined by John Preskill in 2018 which noted that current quantum computers at the time (and indeed still in 2023) are prone to considerable error rates and limited in size by the number of logical qubits (or even physical qubits) in the system. In short, this means they are unreliable to perform general computation."
      ]
    },
    {
      "cell_type": "markdown",
      "metadata": {
        "id": "m1BlaUo8G22T"
      },
      "source": [
        "Cirq attempts to expose the details of hardware, instead of abstracting them away, because, in the Noisy Intermediate-Scale Quantum (NISQ) regime, these details determine whether or not it is possible to execute a circuit at all.\n",
        "\n",
        "‘Intermediate-Scale’ is due to the number of qubits used in the Quantum computer (50 to 100 qubits). And Noisy because we don’t have enough qubits to spare for error correction, which reduces the reliability of program execution."
      ]
    },
    {
      "cell_type": "code",
      "execution_count": null,
      "metadata": {
        "id": "_PYraFhnHMGM"
      },
      "outputs": [],
      "source": [
        " pip install cirq"
      ]
    },
    {
      "cell_type": "markdown",
      "metadata": {
        "id": "vhEJgpn6HX6z"
      },
      "source": [
        "You might need to restart the runtime of this notebook for the installation to complete"
      ]
    },
    {
      "cell_type": "markdown",
      "metadata": {
        "id": "VuuiOZNbH-Uk"
      },
      "source": [
        "If still not successful follow the steps below."
      ]
    },
    {
      "cell_type": "code",
      "execution_count": null,
      "metadata": {
        "id": "Pul3SR_ZH95a"
      },
      "outputs": [],
      "source": [
        "pip uninstall google-api-core"
      ]
    },
    {
      "cell_type": "code",
      "execution_count": null,
      "metadata": {
        "id": "QY942ytFIHPs"
      },
      "outputs": [],
      "source": [
        "pip install google-api-core"
      ]
    },
    {
      "cell_type": "code",
      "execution_count": null,
      "metadata": {
        "id": "KIS2AmquIKDy"
      },
      "outputs": [],
      "source": [
        "pip uninstall cirq"
      ]
    },
    {
      "cell_type": "code",
      "execution_count": null,
      "metadata": {
        "id": "x4QEYGrAILhk"
      },
      "outputs": [],
      "source": [
        "pip install cirq"
      ]
    },
    {
      "cell_type": "markdown",
      "metadata": {
        "id": "Xtz_Upx2G-Hj"
      },
      "source": [
        "As a final resort try the following code to install cirq"
      ]
    },
    {
      "cell_type": "code",
      "execution_count": null,
      "metadata": {
        "id": "bd9529db1c0b"
      },
      "outputs": [],
      "source": [
        "try:\n",
        "    import cirq\n",
        "    import cirq_google\n",
        "except ImportError:\n",
        "    print(\"installing cirq...\")\n",
        "    !pip install --quiet cirq-google --pre\n",
        "    print(\"installed cirq.\")\n",
        "    import cirq\n",
        "    import cirq_google"
      ]
    },
    {
      "cell_type": "code",
      "execution_count": null,
      "metadata": {
        "id": "y2vqa_C3Hyws"
      },
      "outputs": [],
      "source": [
        "print(cirq.__version__)"
      ]
    },
    {
      "cell_type": "markdown",
      "metadata": {
        "id": "svYlkTh7JZ48"
      },
      "source": [
        "**Creating Qubits**\n",
        "\n",
        "The first part of creating a quantum circuit is to define a set of qubits (also known as a quantum register) to act on.\n",
        "\n",
        "Cirq has three main ways of defining qubits:\n",
        "\n",
        "**cirq.NamedQubit:** used to label qubits by an abstract name.\n",
        "**cirq.LineQubit:** qubits labelled by number in a linear array.\n",
        "**cirq.GridQubit:** qubits labelled by two numbers in a rectangular lattice.\n",
        "\n",
        "Here are some examples of defining each type of qubit."
      ]
    },
    {
      "cell_type": "code",
      "execution_count": null,
      "metadata": {
        "id": "b5cHtUrvJhn7"
      },
      "outputs": [],
      "source": [
        "# Using named qubits can be useful for abstract algorithms\n",
        "# as well as algorithms not yet mapped onto hardware.\n",
        "q0 = cirq.NamedQubit('source')\n",
        "q1 = cirq.NamedQubit('target')\n",
        "\n",
        "# Line qubits can be created individually\n",
        "q3 = cirq.LineQubit(3)\n",
        "\n",
        "# Or created in a range\n",
        "# This will create LineQubit(0), LineQubit(1), LineQubit(2)\n",
        "q0, q1, q2 = cirq.LineQubit.range(3)\n",
        "\n",
        "# Grid Qubits can also be referenced individually\n",
        "q4_5 = cirq.GridQubit(4, 5)\n",
        "\n",
        "# Or created in bulk in a square\n",
        "# This will create 16 qubits from (0,0) to (3,3)\n",
        "qubits = cirq.GridQubit.square(4)"
      ]
    },
    {
      "cell_type": "code",
      "execution_count": null,
      "metadata": {
        "id": "OceJyhFgM47G"
      },
      "outputs": [],
      "source": [
        "#Named Qubit\n",
        "a = cirq.NamedQubit(\"a\")\n",
        "b = cirq.NamedQubit(\"b\")\n",
        "c = cirq.NamedQubit(\"c\")\n",
        "\n",
        "#Line Qubit\n",
        "qubits = cirq.LineQubit.range(3)\n",
        "#creates a array of qubits\n",
        "\n",
        "#GridQubits\n",
        "qubits = [cirq.GridQubit(x,y) for x in range (3) for y in range(3)]"
      ]
    },
    {
      "cell_type": "markdown",
      "metadata": {
        "id": "py89TlynJsRK"
      },
      "source": [
        "**Qubit Devices**\n",
        "\n",
        "There are also pre-packaged sets of qubits called Devices. These are qubits along with a set of rules for how they can be used. A cirq.Device can be used to ensure that two-qubit gates are only applied to qubits that are adjacent in the hardware, and other constraints. The following example will use the cirq_google.Sycamore device that comes with cirq. It is a diamond-shaped grid with 54 qubits that mimics early hardware released by Google."
      ]
    },
    {
      "cell_type": "code",
      "execution_count": null,
      "metadata": {
        "id": "GWI_cpC4Jv4D"
      },
      "outputs": [],
      "source": [
        "print(cirq_google.Sycamore)"
      ]
    },
    {
      "cell_type": "markdown",
      "metadata": {
        "id": "CkzluG-xK_ET"
      },
      "source": [
        "Sycamore - 2019 - 53 qubits\n",
        "\n",
        "Sycamore23 - 23 Qubits\n",
        "\n",
        "Bristlecone - 2018 - 72 qubits\n",
        "\n",
        "Foxtail - Older - 22 Qubits\n",
        "\n",
        "\n",
        "https://quantumai.google/cirq/google/devices\n"
      ]
    },
    {
      "cell_type": "markdown",
      "metadata": {
        "id": "8qLacLauMSky"
      },
      "source": [
        "Building Circuits\n",
        "\n",
        "To describe an algorithm using quantum computers Cirq uses what is called as Quantum Circuit model. The Quantum circuit is just a diagram that describes how to perform quantum computation. This circuit has to be read from left to right.\n",
        "\n",
        "In Cirq, circuits are represented by Circuit objects.\n",
        "\n",
        "This is a way to initialize an empty quantum circuit in Cirq:"
      ]
    },
    {
      "cell_type": "code",
      "execution_count": null,
      "metadata": {
        "id": "zZ1VwXbHMQk9"
      },
      "outputs": [],
      "source": [
        "circuit = cirq.Circuit()\n",
        "print(circuit)"
      ]
    },
    {
      "cell_type": "markdown",
      "metadata": {
        "id": "-TGqIgShL3f1"
      },
      "source": [
        "**Gates and Operations**\n",
        "\n",
        "The next step is to use the qubits to create operations that can be used in the circuit. Cirq has two concepts that are important to understand here:\n",
        "\n",
        "A Gate is an effect that can be applied to a set of qubits.\n",
        "An Operation is a gate applied to a set of qubits.\n",
        "For instance, cirq.H is the quantum Hadamard and is a Gate object. cirq.H(cirq.LineQubit(1)) is an Operation object and is the Hadamard gate applied to a specific qubit (line qubit number 1).\n",
        "\n",
        "Many textbook gates are included within cirq. cirq.X, cirq.Y, and cirq.Z refer to the single-qubit Pauli gates. cirq.CZ, cirq.CNOT, cirq.SWAP are a few of the common two-qubit gates. cirq.measure is a macro to apply a MeasurementGate to a set of qubits."
      ]
    },
    {
      "cell_type": "code",
      "execution_count": null,
      "metadata": {
        "id": "I3WEJzBvMor6"
      },
      "outputs": [],
      "source": [
        "circuit.append(cirq.H(a))\n",
        "print(circuit)"
      ]
    },
    {
      "cell_type": "code",
      "execution_count": null,
      "metadata": {
        "id": "zWmbQqKGL29F"
      },
      "outputs": [],
      "source": [
        "# Example gates\n",
        "cnot_gate = cirq.CNOT\n",
        "pauli_z = cirq.Z\n",
        "\n",
        "# Use exponentiation to get square root gates.\n",
        "sqrt_x_gate = cirq.X**0.5\n",
        "\n",
        "# Some gates can also take parameters\n",
        "sqrt_sqrt_y = cirq.YPowGate(exponent=0.25)\n",
        "\n",
        "# Create two qubits at once, in a line.\n",
        "q0, q1 = cirq.LineQubit.range(2)\n",
        "\n",
        "# Example operations\n",
        "z_op = cirq.Z(q0)\n",
        "not_op = cirq.CNOT(q0, q1)\n",
        "sqrt_iswap_op = cirq.SQRT_ISWAP(q0, q1)\n",
        "\n",
        "# You can also use the gates you specified earlier.\n",
        "cnot_op = cnot_gate(q0, q1)\n",
        "pauli_z_op = pauli_z(q0)\n",
        "sqrt_x_op = sqrt_x_gate(q0)\n",
        "sqrt_sqrt_y_op = sqrt_sqrt_y(q0)"
      ]
    },
    {
      "cell_type": "markdown",
      "metadata": {
        "id": "iLXvYIjlNdB6"
      },
      "source": [
        "**Measurement**\n",
        "\n",
        "Measurement gates make measurements on qubits and as we know by the property of quantum objects, when we perform the measurement on a qubit in superposition it’ll collapse to either 0 or 1.\n",
        "\n"
      ]
    },
    {
      "cell_type": "code",
      "execution_count": null,
      "metadata": {
        "id": "Jn0bW8dTNrXt"
      },
      "outputs": [],
      "source": [
        "circuit.append(cirq.measure(a))\n",
        "print(circuit)"
      ]
    },
    {
      "cell_type": "code",
      "execution_count": null,
      "metadata": {
        "id": "xtRCFssnN5dl"
      },
      "outputs": [],
      "source": [
        "simulator = cirq.Simulator()\n",
        "result = simulator.run(circuit)\n",
        "print('Measurement results :')\n",
        "print(result)"
      ]
    },
    {
      "cell_type": "markdown",
      "metadata": {
        "id": "lDc7UHL5OQ3g"
      },
      "source": [
        "If we run this circuit once we will just measure 0 or 1 as output with a 50% chance of both (Due to Hadamard gate)."
      ]
    },
    {
      "cell_type": "code",
      "execution_count": null,
      "metadata": {
        "id": "O2U_KRC-OXqS"
      },
      "outputs": [],
      "source": [
        "ops=[cirq.H(a), cirq.H(b), cirq.measure(a,b)]\n",
        "circuit2=cirq.Circuit(ops)\n",
        "print(circuit2)"
      ]
    },
    {
      "cell_type": "code",
      "execution_count": null,
      "metadata": {
        "id": "Atp4SWrJOmoc"
      },
      "outputs": [],
      "source": [
        "simulator2 = cirq.Simulator()\n",
        "result2 = simulator2.run(circuit2)\n",
        "print('Measurement results :')\n",
        "print(result2)"
      ]
    },
    {
      "cell_type": "markdown",
      "metadata": {
        "id": "UDorD_miO64P"
      },
      "source": [
        "Let’s try running this same circuit multiple times"
      ]
    },
    {
      "cell_type": "code",
      "execution_count": null,
      "metadata": {
        "id": "CyEckbwBP3sH"
      },
      "outputs": [],
      "source": [
        "ops=[cirq.H(a), cirq.H(b), cirq.measure(a,b)]\n",
        "circuit3=cirq.Circuit(ops)\n",
        "print(circuit3)"
      ]
    },
    {
      "cell_type": "code",
      "execution_count": null,
      "metadata": {
        "id": "QlEGRo0JOwBB"
      },
      "outputs": [],
      "source": [
        "simulator3 = cirq.Simulator()\n",
        "result3 = simulator3.run(circuit3, repetitions = 5)\n",
        "print('Measurement results :')\n",
        "print(result3)"
      ]
    },
    {
      "cell_type": "markdown",
      "metadata": {
        "id": "ltxXJOuePAfE"
      },
      "source": [
        "Plotting the result\n",
        "**bold text**\n",
        "When we simulate it multiple times, the number of zeroes and ones tend to be equal to each other."
      ]
    },
    {
      "cell_type": "code",
      "execution_count": null,
      "metadata": {
        "id": "vksa0YnZPD3P"
      },
      "outputs": [],
      "source": [
        "from cirq import plot_state_histogram as plt_hist\n",
        "#plt_hist('replace with result you want')"
      ]
    },
    {
      "cell_type": "code",
      "execution_count": null,
      "metadata": {
        "id": "GHk0IRvcPZ0_"
      },
      "outputs": [],
      "source": [
        "simulator = cirq.Simulator()\n",
        "result = simulator.run(circuit, repetitions = 1000)\n",
        "print('Measurement results :')\n",
        "print(result)"
      ]
    },
    {
      "cell_type": "code",
      "execution_count": null,
      "metadata": {
        "id": "VlbmiIAaPeMP"
      },
      "outputs": [],
      "source": [
        "from cirq import plot_state_histogram as plt_hist\n",
        "plt_hist(result)"
      ]
    },
    {
      "cell_type": "code",
      "execution_count": null,
      "metadata": {
        "id": "aUOOsm_kPh0B"
      },
      "outputs": [],
      "source": [
        "from cirq import plot_state_histogram as plt_hist\n",
        "plt_hist(result3)"
      ]
    }
  ],
  "metadata": {
    "colab": {
      "provenance": [],
      "authorship_tag": "ABX9TyPcjONGO66c8r6mqtoaNEOM",
      "include_colab_link": true
    },
    "kernelspec": {
      "display_name": "Python 3",
      "name": "python3"
    },
    "language_info": {
      "name": "python"
    }
  },
  "nbformat": 4,
  "nbformat_minor": 0
}